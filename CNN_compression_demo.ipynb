{
  "cells": [
    {
      "cell_type": "markdown",
      "metadata": {
        "id": "view-in-github",
        "colab_type": "text"
      },
      "source": [
        "<a href=\"https://colab.research.google.com/github/K0EKJE/CNN_compression_with_Tensor_Decomposition/blob/main/CNN_compression_demo.ipynb\" target=\"_parent\"><img src=\"https://colab.research.google.com/assets/colab-badge.svg\" alt=\"Open In Colab\"/></a>"
      ]
    },
    {
      "cell_type": "markdown",
      "source": [
        "# Network Compression With Tensor Decomposition Demo"
      ],
      "metadata": {
        "id": "zsX6wsQWXB_C"
      }
    },
    {
      "cell_type": "markdown",
      "source": [
        "First clone the repo to access pretrained model weights and scripts."
      ],
      "metadata": {
        "id": "mTVwSUCLXIAm"
      }
    },
    {
      "cell_type": "code",
      "source": [
        "pip install tensorly"
      ],
      "metadata": {
        "colab": {
          "base_uri": "https://localhost:8080/"
        },
        "id": "IdWTtnGUY1X4",
        "outputId": "c48f90e6-2765-48a1-85df-3753ad004c93"
      },
      "execution_count": 2,
      "outputs": [
        {
          "output_type": "stream",
          "name": "stdout",
          "text": [
            "Collecting tensorly\n",
            "  Downloading tensorly-0.8.1-py3-none-any.whl (229 kB)\n",
            "\u001b[?25l     \u001b[90m━━━━━━━━━━━━━━━━━━━━━━━━━━━━━━━━━━━━━━━━\u001b[0m \u001b[32m0.0/229.7 kB\u001b[0m \u001b[31m?\u001b[0m eta \u001b[36m-:--:--\u001b[0m\r\u001b[2K     \u001b[91m━━━━━━━━━━━━━━━━━━━━━━━━\u001b[0m\u001b[91m╸\u001b[0m\u001b[90m━━━━━━━━━━━━━━━\u001b[0m \u001b[32m143.4/229.7 kB\u001b[0m \u001b[31m4.4 MB/s\u001b[0m eta \u001b[36m0:00:01\u001b[0m\r\u001b[2K     \u001b[90m━━━━━━━━━━━━━━━━━━━━━━━━━━━━━━━━━━━━━━━━\u001b[0m \u001b[32m229.7/229.7 kB\u001b[0m \u001b[31m4.9 MB/s\u001b[0m eta \u001b[36m0:00:00\u001b[0m\n",
            "\u001b[?25hRequirement already satisfied: numpy in /usr/local/lib/python3.10/dist-packages (from tensorly) (1.23.5)\n",
            "Requirement already satisfied: scipy in /usr/local/lib/python3.10/dist-packages (from tensorly) (1.11.3)\n",
            "Installing collected packages: tensorly\n",
            "Successfully installed tensorly-0.8.1\n"
          ]
        }
      ]
    },
    {
      "cell_type": "code",
      "execution_count": 1,
      "metadata": {
        "colab": {
          "base_uri": "https://localhost:8080/"
        },
        "id": "rvRAw_m0Hmwr",
        "outputId": "8e074f44-cbed-415d-c587-0ab0fa1c26ef"
      },
      "outputs": [
        {
          "output_type": "stream",
          "name": "stdout",
          "text": [
            "Cloning into 'CNN_compression_with_Tensor_Decomposition'...\n",
            "remote: Enumerating objects: 293, done.\u001b[K\n",
            "remote: Counting objects: 100% (143/143), done.\u001b[K\n",
            "remote: Compressing objects: 100% (77/77), done.\u001b[K\n",
            "remote: Total 293 (delta 72), reused 135 (delta 66), pack-reused 150\u001b[K\n",
            "Receiving objects: 100% (293/293), 1016.18 MiB | 30.58 MiB/s, done.\n",
            "Resolving deltas: 100% (124/124), done.\n"
          ]
        }
      ],
      "source": [
        "!git clone https://github.com/K0EKJE/CNN_compression_with_Tensor_Decomposition.git"
      ]
    },
    {
      "cell_type": "markdown",
      "source": [
        "## CP decomposition"
      ],
      "metadata": {
        "id": "3gpwDnIoZG8K"
      }
    },
    {
      "cell_type": "markdown",
      "source": [
        "Run the follwoing to start decomposition on the second convolutional layer with CP decomposition. It will download the dataset first and print the decomposed model  structure. A `decomposed_model` file will be automatically generated in the directory.\n",
        "\n",
        "**Note:** change `layer_to_decomp_cp` in config file to choose layer for decomposition. As for CP decomposition, it requires large RAM so try to test with only the frist first two convolutiaon layers."
      ],
      "metadata": {
        "id": "1MbcX_BCZKxY"
      }
    },
    {
      "cell_type": "code",
      "execution_count": 6,
      "metadata": {
        "colab": {
          "base_uri": "https://localhost:8080/"
        },
        "id": "4U9Pfz4PsrzU",
        "outputId": "48168cba-c062-442f-83fc-2c9c04edeb3c"
      },
      "outputs": [
        {
          "output_type": "stream",
          "name": "stdout",
          "text": [
            "==> Preparing data..\n",
            "Files already downloaded and verified\n",
            "Files already downloaded and verified\n",
            "Decomposing layer 3: Conv2d(64, 64, kernel_size=(3, 3), stride=(1, 1), padding=(1, 1))\n",
            "CP rank = 21\n",
            "Decomposition of layer 3 Completed. Ratio = 0.75721353\n",
            "\n",
            "====================================================================================================\n",
            "\n",
            "==> Building decomposed model..\n",
            "VGG(\n",
            "  (features): Sequential(\n",
            "    (0): Conv2d(3, 64, kernel_size=(3, 3), stride=(1, 1), padding=(1, 1))\n",
            "    (1): BatchNorm2d(64, eps=1e-05, momentum=0.1, affine=True, track_running_stats=True)\n",
            "    (2): ReLU(inplace=True)\n",
            "    (3): Sequential(\n",
            "      (0): Conv2d(64, 21, kernel_size=(1, 1), stride=(1, 1), bias=False)\n",
            "      (1): Conv2d(21, 21, kernel_size=(3, 1), stride=(1, 1), padding=(1, 0), groups=21, bias=False)\n",
            "      (2): Conv2d(21, 21, kernel_size=(1, 3), stride=(1, 1), padding=(0, 1), groups=21, bias=False)\n",
            "      (3): Conv2d(21, 64, kernel_size=(1, 1), stride=(1, 1))\n",
            "    )\n",
            "    (4): BatchNorm2d(64, eps=1e-05, momentum=0.1, affine=True, track_running_stats=True)\n",
            "    (5): ReLU(inplace=True)\n",
            "    (6): MaxPool2d(kernel_size=2, stride=2, padding=0, dilation=1, ceil_mode=False)\n",
            "    (7): Conv2d(64, 128, kernel_size=(3, 3), stride=(1, 1), padding=(1, 1))\n",
            "    (8): BatchNorm2d(128, eps=1e-05, momentum=0.1, affine=True, track_running_stats=True)\n",
            "    (9): ReLU(inplace=True)\n",
            "    (10): Conv2d(128, 128, kernel_size=(3, 3), stride=(1, 1), padding=(1, 1))\n",
            "    (11): BatchNorm2d(128, eps=1e-05, momentum=0.1, affine=True, track_running_stats=True)\n",
            "    (12): ReLU(inplace=True)\n",
            "    (13): MaxPool2d(kernel_size=2, stride=2, padding=0, dilation=1, ceil_mode=False)\n",
            "    (14): Conv2d(128, 256, kernel_size=(3, 3), stride=(1, 1), padding=(1, 1))\n",
            "    (15): BatchNorm2d(256, eps=1e-05, momentum=0.1, affine=True, track_running_stats=True)\n",
            "    (16): ReLU(inplace=True)\n",
            "    (17): Conv2d(256, 256, kernel_size=(3, 3), stride=(1, 1), padding=(1, 1))\n",
            "    (18): BatchNorm2d(256, eps=1e-05, momentum=0.1, affine=True, track_running_stats=True)\n",
            "    (19): ReLU(inplace=True)\n",
            "    (20): Conv2d(256, 256, kernel_size=(3, 3), stride=(1, 1), padding=(1, 1))\n",
            "    (21): BatchNorm2d(256, eps=1e-05, momentum=0.1, affine=True, track_running_stats=True)\n",
            "    (22): ReLU(inplace=True)\n",
            "    (23): Conv2d(256, 256, kernel_size=(3, 3), stride=(1, 1), padding=(1, 1))\n",
            "    (24): BatchNorm2d(256, eps=1e-05, momentum=0.1, affine=True, track_running_stats=True)\n",
            "    (25): ReLU(inplace=True)\n",
            "    (26): MaxPool2d(kernel_size=2, stride=2, padding=0, dilation=1, ceil_mode=False)\n",
            "    (27): Conv2d(256, 512, kernel_size=(3, 3), stride=(1, 1), padding=(1, 1))\n",
            "    (28): BatchNorm2d(512, eps=1e-05, momentum=0.1, affine=True, track_running_stats=True)\n",
            "    (29): ReLU(inplace=True)\n",
            "    (30): Conv2d(512, 512, kernel_size=(3, 3), stride=(1, 1), padding=(1, 1))\n",
            "    (31): BatchNorm2d(512, eps=1e-05, momentum=0.1, affine=True, track_running_stats=True)\n",
            "    (32): ReLU(inplace=True)\n",
            "    (33): Conv2d(512, 512, kernel_size=(3, 3), stride=(1, 1), padding=(1, 1))\n",
            "    (34): BatchNorm2d(512, eps=1e-05, momentum=0.1, affine=True, track_running_stats=True)\n",
            "    (35): ReLU(inplace=True)\n",
            "    (36): Conv2d(512, 512, kernel_size=(3, 3), stride=(1, 1), padding=(1, 1))\n",
            "    (37): BatchNorm2d(512, eps=1e-05, momentum=0.1, affine=True, track_running_stats=True)\n",
            "    (38): ReLU(inplace=True)\n",
            "    (39): MaxPool2d(kernel_size=2, stride=2, padding=0, dilation=1, ceil_mode=False)\n",
            "    (40): Conv2d(512, 512, kernel_size=(3, 3), stride=(1, 1), padding=(1, 1))\n",
            "    (41): BatchNorm2d(512, eps=1e-05, momentum=0.1, affine=True, track_running_stats=True)\n",
            "    (42): ReLU(inplace=True)\n",
            "    (43): Conv2d(512, 512, kernel_size=(3, 3), stride=(1, 1), padding=(1, 1))\n",
            "    (44): BatchNorm2d(512, eps=1e-05, momentum=0.1, affine=True, track_running_stats=True)\n",
            "    (45): ReLU(inplace=True)\n",
            "    (46): Conv2d(512, 512, kernel_size=(3, 3), stride=(1, 1), padding=(1, 1))\n",
            "    (47): BatchNorm2d(512, eps=1e-05, momentum=0.1, affine=True, track_running_stats=True)\n",
            "    (48): ReLU(inplace=True)\n",
            "    (49): Conv2d(512, 512, kernel_size=(3, 3), stride=(1, 1), padding=(1, 1))\n",
            "    (50): BatchNorm2d(512, eps=1e-05, momentum=0.1, affine=True, track_running_stats=True)\n",
            "    (51): ReLU(inplace=True)\n",
            "    (52): MaxPool2d(kernel_size=2, stride=2, padding=0, dilation=1, ceil_mode=False)\n",
            "    (53): AvgPool2d(kernel_size=1, stride=1, padding=0)\n",
            "  )\n",
            "  (classifier): Linear(in_features=512, out_features=10, bias=True)\n",
            ")\n",
            "====================================================================================================\n",
            "\n",
            "Accuracy of new model: \n",
            " [================================================================>]  Step: 18ms  | Tot: 2s 956ms  | Loss: 0.732 | Acc: 86.550% (8655/10000) 100/100 \n"
          ]
        }
      ],
      "source": [
        "!python /content/CNN_compression_with_Tensor_Decomposition/main.py --decompose"
      ]
    },
    {
      "cell_type": "markdown",
      "source": [
        "We have successfully used a rank-21 CP decomposition to decomposed the second convolutional layer of the model, and we can see that the accuracy right after decomposition is 85.720%. For reference, the base accuracy is 93.11%.\n",
        "\n",
        "Now we can finetune for 3 epochs, and we will see a quick recovery of accuracy after the first epoch. The accruacy might not keep reducing as we are using a relatively large learning rate."
      ],
      "metadata": {
        "id": "Pzf8TyBcaHjl"
      }
    },
    {
      "cell_type": "code",
      "execution_count": 4,
      "metadata": {
        "id": "7pP0G0WuUA_m",
        "colab": {
          "base_uri": "https://localhost:8080/"
        },
        "outputId": "e344c833-1322-4a83-9979-301dbd584659"
      },
      "outputs": [
        {
          "output_type": "stream",
          "name": "stdout",
          "text": [
            "==> Preparing data..\n",
            "Files already downloaded and verified\n",
            "Files already downloaded and verified\n",
            "VGG(\n",
            "  (features): Sequential(\n",
            "    (0): Conv2d(3, 64, kernel_size=(3, 3), stride=(1, 1), padding=(1, 1))\n",
            "    (1): BatchNorm2d(64, eps=1e-05, momentum=0.1, affine=True, track_running_stats=True)\n",
            "    (2): ReLU(inplace=True)\n",
            "    (3): Sequential(\n",
            "      (0): Conv2d(64, 21, kernel_size=(1, 1), stride=(1, 1), bias=False)\n",
            "      (1): Conv2d(21, 21, kernel_size=(3, 1), stride=(1, 1), padding=(1, 0), groups=21, bias=False)\n",
            "      (2): Conv2d(21, 21, kernel_size=(1, 3), stride=(1, 1), padding=(0, 1), groups=21, bias=False)\n",
            "      (3): Conv2d(21, 64, kernel_size=(1, 1), stride=(1, 1))\n",
            "    )\n",
            "    (4): BatchNorm2d(64, eps=1e-05, momentum=0.1, affine=True, track_running_stats=True)\n",
            "    (5): ReLU(inplace=True)\n",
            "    (6): MaxPool2d(kernel_size=2, stride=2, padding=0, dilation=1, ceil_mode=False)\n",
            "    (7): Conv2d(64, 128, kernel_size=(3, 3), stride=(1, 1), padding=(1, 1))\n",
            "    (8): BatchNorm2d(128, eps=1e-05, momentum=0.1, affine=True, track_running_stats=True)\n",
            "    (9): ReLU(inplace=True)\n",
            "    (10): Conv2d(128, 128, kernel_size=(3, 3), stride=(1, 1), padding=(1, 1))\n",
            "    (11): BatchNorm2d(128, eps=1e-05, momentum=0.1, affine=True, track_running_stats=True)\n",
            "    (12): ReLU(inplace=True)\n",
            "    (13): MaxPool2d(kernel_size=2, stride=2, padding=0, dilation=1, ceil_mode=False)\n",
            "    (14): Conv2d(128, 256, kernel_size=(3, 3), stride=(1, 1), padding=(1, 1))\n",
            "    (15): BatchNorm2d(256, eps=1e-05, momentum=0.1, affine=True, track_running_stats=True)\n",
            "    (16): ReLU(inplace=True)\n",
            "    (17): Conv2d(256, 256, kernel_size=(3, 3), stride=(1, 1), padding=(1, 1))\n",
            "    (18): BatchNorm2d(256, eps=1e-05, momentum=0.1, affine=True, track_running_stats=True)\n",
            "    (19): ReLU(inplace=True)\n",
            "    (20): Conv2d(256, 256, kernel_size=(3, 3), stride=(1, 1), padding=(1, 1))\n",
            "    (21): BatchNorm2d(256, eps=1e-05, momentum=0.1, affine=True, track_running_stats=True)\n",
            "    (22): ReLU(inplace=True)\n",
            "    (23): Conv2d(256, 256, kernel_size=(3, 3), stride=(1, 1), padding=(1, 1))\n",
            "    (24): BatchNorm2d(256, eps=1e-05, momentum=0.1, affine=True, track_running_stats=True)\n",
            "    (25): ReLU(inplace=True)\n",
            "    (26): MaxPool2d(kernel_size=2, stride=2, padding=0, dilation=1, ceil_mode=False)\n",
            "    (27): Conv2d(256, 512, kernel_size=(3, 3), stride=(1, 1), padding=(1, 1))\n",
            "    (28): BatchNorm2d(512, eps=1e-05, momentum=0.1, affine=True, track_running_stats=True)\n",
            "    (29): ReLU(inplace=True)\n",
            "    (30): Conv2d(512, 512, kernel_size=(3, 3), stride=(1, 1), padding=(1, 1))\n",
            "    (31): BatchNorm2d(512, eps=1e-05, momentum=0.1, affine=True, track_running_stats=True)\n",
            "    (32): ReLU(inplace=True)\n",
            "    (33): Conv2d(512, 512, kernel_size=(3, 3), stride=(1, 1), padding=(1, 1))\n",
            "    (34): BatchNorm2d(512, eps=1e-05, momentum=0.1, affine=True, track_running_stats=True)\n",
            "    (35): ReLU(inplace=True)\n",
            "    (36): Conv2d(512, 512, kernel_size=(3, 3), stride=(1, 1), padding=(1, 1))\n",
            "    (37): BatchNorm2d(512, eps=1e-05, momentum=0.1, affine=True, track_running_stats=True)\n",
            "    (38): ReLU(inplace=True)\n",
            "    (39): MaxPool2d(kernel_size=2, stride=2, padding=0, dilation=1, ceil_mode=False)\n",
            "    (40): Conv2d(512, 512, kernel_size=(3, 3), stride=(1, 1), padding=(1, 1))\n",
            "    (41): BatchNorm2d(512, eps=1e-05, momentum=0.1, affine=True, track_running_stats=True)\n",
            "    (42): ReLU(inplace=True)\n",
            "    (43): Conv2d(512, 512, kernel_size=(3, 3), stride=(1, 1), padding=(1, 1))\n",
            "    (44): BatchNorm2d(512, eps=1e-05, momentum=0.1, affine=True, track_running_stats=True)\n",
            "    (45): ReLU(inplace=True)\n",
            "    (46): Conv2d(512, 512, kernel_size=(3, 3), stride=(1, 1), padding=(1, 1))\n",
            "    (47): BatchNorm2d(512, eps=1e-05, momentum=0.1, affine=True, track_running_stats=True)\n",
            "    (48): ReLU(inplace=True)\n",
            "    (49): Conv2d(512, 512, kernel_size=(3, 3), stride=(1, 1), padding=(1, 1))\n",
            "    (50): BatchNorm2d(512, eps=1e-05, momentum=0.1, affine=True, track_running_stats=True)\n",
            "    (51): ReLU(inplace=True)\n",
            "    (52): MaxPool2d(kernel_size=2, stride=2, padding=0, dilation=1, ceil_mode=False)\n",
            "    (53): AvgPool2d(kernel_size=1, stride=1, padding=0)\n",
            "  )\n",
            "  (classifier): Linear(in_features=512, out_features=10, bias=True)\n",
            ")\n",
            "Starting learning rate is: 0.001\n",
            "\n",
            "Epoch: 1\n",
            " [================================================================>]  Step: 1s 199ms  | Tot: 28s 955ms  | Loss: 0.052 | Acc: 98.552% (49276/50000) 391/391 \n",
            " [================================================================>]  Step: 24ms  | Tot: 3s 155ms  | Loss: 0.396 | Acc: 91.200% (9120/10000) 100/100 \n",
            "Saving..\n",
            "\n",
            "Epoch: 2\n",
            " [================================================================>]  Step: 45ms  | Tot: 28s 859ms  | Loss: 0.014 | Acc: 99.562% (49781/50000) 391/391 \n",
            " [================================================================>]  Step: 19ms  | Tot: 5s 377ms  | Loss: 0.466 | Acc: 89.890% (8989/10000) 100/100 \n",
            "\n",
            "Epoch: 3\n",
            " [================================================================>]  Step: 47ms  | Tot: 30s 693ms  | Loss: 0.011 | Acc: 99.678% (49839/50000) 391/391 \n",
            " [================================================================>]  Step: 17ms  | Tot: 3s 229ms  | Loss: 0.411 | Acc: 91.110% (9111/10000) 100/100 \n"
          ]
        }
      ],
      "source": [
        "!python /content/CNN_compression_with_Tensor_Decomposition/main.py --run_model --fine_tune --lr=0.001"
      ]
    },
    {
      "cell_type": "markdown",
      "source": [
        "## Partial Tucker Decomposition"
      ],
      "metadata": {
        "id": "UEjO3CGjZ8OA"
      }
    },
    {
      "cell_type": "markdown",
      "source": [
        "Add a `--tucker` parser to use the Tucker decomposition.The rank selection method can be chosen from VBMF and SVD by changing the `tucker_rank_selection_method` setting in the config file, and similarly `layer_to_decomp_tucker` will control layers to decompose."
      ],
      "metadata": {
        "id": "ysbt3y0ldjMO"
      }
    },
    {
      "cell_type": "code",
      "execution_count": 8,
      "metadata": {
        "colab": {
          "base_uri": "https://localhost:8080/"
        },
        "id": "gJy1JFLVC44i",
        "outputId": "2b19b679-ce4f-476c-8a74-3b6d2e86a5cc"
      },
      "outputs": [
        {
          "output_type": "stream",
          "name": "stdout",
          "text": [
            "==> Preparing data..\n",
            "Files already downloaded and verified\n",
            "Files already downloaded and verified\n",
            "Decomposing layer 3: Conv2d(64, 64, kernel_size=(3, 3), stride=(1, 1), padding=(1, 1))\n",
            "SVD Estimated ranks:  [15, 14]\n",
            "Number of params before: 36928 || after: 3839\n",
            "Decomposition of layer 3 Completed. Ratio = 0.78914803\n",
            "\n",
            "Decomposing layer 7: Conv2d(64, 128, kernel_size=(3, 3), stride=(1, 1), padding=(1, 1))\n",
            "SVD Estimated ranks:  [27, 22]\n",
            "Number of params before: 73856 || after: 10387\n",
            "Decomposition of layer 7 Completed. Ratio = 0.7905847\n",
            "\n",
            "Decomposing layer 10: Conv2d(128, 128, kernel_size=(3, 3), stride=(1, 1), padding=(1, 1))\n",
            "SVD Estimated ranks:  [47, 41]\n",
            "Number of params before: 147584 || after: 28823\n",
            "Decomposition of layer 10 Completed. Ratio = 0.7721972\n",
            "\n",
            "Decomposing layer 14: Conv2d(128, 256, kernel_size=(3, 3), stride=(1, 1), padding=(1, 1))\n",
            "SVD Estimated ranks:  [79, 66]\n",
            "Number of params before: 295168 || after: 75999\n",
            "Decomposition of layer 14 Completed. Ratio = 0.79585266\n",
            "\n",
            "Decomposing layer 17: Conv2d(256, 256, kernel_size=(3, 3), stride=(1, 1), padding=(1, 1))\n",
            "Traceback (most recent call last):\n",
            "  File \"/content/CNN_compression_with_Tensor_Decomposition/main.py\", line 341, in <module>\n",
            "    nparam, npd,ratio, decomposed = tucker_decomposition_conv_layer(conv_layer, tucker_rank_selection_method, target_ratio_)\n",
            "  File \"/content/CNN_compression_with_Tensor_Decomposition/tensor_decomp/decompositions.py\", line 289, in tucker_decomposition_conv_layer\n",
            "    core, [last, first] = partial_tucker(np.asarray(layer.weight.data),\n",
            "  File \"/usr/local/lib/python3.10/dist-packages/tensorly/decomposition/_tucker.py\", line 190, in partial_tucker\n",
            "    eigenvecs, _, _ = svd_interface(\n",
            "  File \"/usr/local/lib/python3.10/dist-packages/tensorly/tenalg/svd.py\", line 418, in svd_interface\n",
            "    U, S, V = svd_fun(matrix, n_eigenvecs=n_eigenvecs, **kwargs)\n",
            "  File \"/usr/local/lib/python3.10/dist-packages/tensorly/tenalg/svd.py\", line 226, in truncated_svd\n",
            "    U, S, V = tl.svd(matrix, full_matrices=full_matrices)\n",
            "  File \"/usr/local/lib/python3.10/dist-packages/tensorly/backend/__init__.py\", line 206, in wrapped_backend_method\n",
            "    return getattr(\n",
            "  File \"<__array_function__ internals>\", line 180, in svd\n",
            "  File \"/usr/local/lib/python3.10/dist-packages/numpy/linalg/linalg.py\", line 1657, in svd\n",
            "    u, s, vh = gufunc(a, signature=signature, extobj=extobj)\n",
            "KeyboardInterrupt\n"
          ]
        }
      ],
      "source": [
        "!python /content/CNN_compression_with_Tensor_Decomposition/main.py --decompose --tucker"
      ]
    },
    {
      "cell_type": "markdown",
      "source": [
        "Let's also fine-tune for a few epochs. Change `fine_tune_epochs` to vary the number of epochs."
      ],
      "metadata": {
        "id": "w0A-toS4eA5F"
      }
    },
    {
      "cell_type": "code",
      "execution_count": null,
      "metadata": {
        "colab": {
          "base_uri": "https://localhost:8080/"
        },
        "id": "nypcciVptpXu",
        "outputId": "62fd5f09-a9ac-4c37-a0d9-82548d900858"
      },
      "outputs": [
        {
          "name": "stdout",
          "output_type": "stream",
          "text": [
            "==> Preparing data..\n",
            "Files already downloaded and verified\n",
            "Files already downloaded and verified\n",
            "VGG(\n",
            "  (features): Sequential(\n",
            "    (0): Conv2d(3, 64, kernel_size=(3, 3), stride=(1, 1), padding=(1, 1))\n",
            "    (1): BatchNorm2d(64, eps=1e-05, momentum=0.1, affine=True, track_running_stats=True)\n",
            "    (2): ReLU(inplace=True)\n",
            "    (3): Sequential(\n",
            "      (0): Conv2d(64, 34, kernel_size=(1, 1), stride=(1, 1), bias=False)\n",
            "      (1): Conv2d(34, 29, kernel_size=(3, 3), stride=(1, 1), padding=(1, 1), bias=False)\n",
            "      (2): Conv2d(29, 64, kernel_size=(1, 1), stride=(1, 1))\n",
            "    )\n",
            "    (4): BatchNorm2d(64, eps=1e-05, momentum=0.1, affine=True, track_running_stats=True)\n",
            "    (5): ReLU(inplace=True)\n",
            "    (6): MaxPool2d(kernel_size=2, stride=2, padding=0, dilation=1, ceil_mode=False)\n",
            "    (7): Sequential(\n",
            "      (0): Conv2d(64, 32, kernel_size=(1, 1), stride=(1, 1), bias=False)\n",
            "      (1): Conv2d(32, 38, kernel_size=(3, 3), stride=(1, 1), padding=(1, 1), bias=False)\n",
            "      (2): Conv2d(38, 128, kernel_size=(1, 1), stride=(1, 1))\n",
            "    )\n",
            "    (8): BatchNorm2d(128, eps=1e-05, momentum=0.1, affine=True, track_running_stats=True)\n",
            "    (9): ReLU(inplace=True)\n",
            "    (10): Sequential(\n",
            "      (0): Conv2d(128, 40, kernel_size=(1, 1), stride=(1, 1), bias=False)\n",
            "      (1): Conv2d(40, 35, kernel_size=(3, 3), stride=(1, 1), padding=(1, 1), bias=False)\n",
            "      (2): Conv2d(35, 128, kernel_size=(1, 1), stride=(1, 1))\n",
            "    )\n",
            "    (11): BatchNorm2d(128, eps=1e-05, momentum=0.1, affine=True, track_running_stats=True)\n",
            "    (12): ReLU(inplace=True)\n",
            "    (13): MaxPool2d(kernel_size=2, stride=2, padding=0, dilation=1, ceil_mode=False)\n",
            "    (14): Sequential(\n",
            "      (0): Conv2d(128, 53, kernel_size=(1, 1), stride=(1, 1), bias=False)\n",
            "      (1): Conv2d(53, 56, kernel_size=(3, 3), stride=(1, 1), padding=(1, 1), bias=False)\n",
            "      (2): Conv2d(56, 256, kernel_size=(1, 1), stride=(1, 1))\n",
            "    )\n",
            "    (15): BatchNorm2d(256, eps=1e-05, momentum=0.1, affine=True, track_running_stats=True)\n",
            "    (16): ReLU(inplace=True)\n",
            "    (17): Sequential(\n",
            "      (0): Conv2d(256, 65, kernel_size=(1, 1), stride=(1, 1), bias=False)\n",
            "      (1): Conv2d(65, 57, kernel_size=(3, 3), stride=(1, 1), padding=(1, 1), bias=False)\n",
            "      (2): Conv2d(57, 256, kernel_size=(1, 1), stride=(1, 1))\n",
            "    )\n",
            "    (18): BatchNorm2d(256, eps=1e-05, momentum=0.1, affine=True, track_running_stats=True)\n",
            "    (19): ReLU(inplace=True)\n",
            "    (20): Sequential(\n",
            "      (0): Conv2d(256, 66, kernel_size=(1, 1), stride=(1, 1), bias=False)\n",
            "      (1): Conv2d(66, 64, kernel_size=(3, 3), stride=(1, 1), padding=(1, 1), bias=False)\n",
            "      (2): Conv2d(64, 256, kernel_size=(1, 1), stride=(1, 1))\n",
            "    )\n",
            "    (21): BatchNorm2d(256, eps=1e-05, momentum=0.1, affine=True, track_running_stats=True)\n",
            "    (22): ReLU(inplace=True)\n",
            "    (23): Sequential(\n",
            "      (0): Conv2d(256, 71, kernel_size=(1, 1), stride=(1, 1), bias=False)\n",
            "      (1): Conv2d(71, 62, kernel_size=(3, 3), stride=(1, 1), padding=(1, 1), bias=False)\n",
            "      (2): Conv2d(62, 256, kernel_size=(1, 1), stride=(1, 1))\n",
            "    )\n",
            "    (24): BatchNorm2d(256, eps=1e-05, momentum=0.1, affine=True, track_running_stats=True)\n",
            "    (25): ReLU(inplace=True)\n",
            "    (26): MaxPool2d(kernel_size=2, stride=2, padding=0, dilation=1, ceil_mode=False)\n",
            "    (27): Sequential(\n",
            "      (0): Conv2d(256, 67, kernel_size=(1, 1), stride=(1, 1), bias=False)\n",
            "      (1): Conv2d(67, 94, kernel_size=(3, 3), stride=(1, 1), padding=(1, 1), bias=False)\n",
            "      (2): Conv2d(94, 512, kernel_size=(1, 1), stride=(1, 1))\n",
            "    )\n",
            "    (28): BatchNorm2d(512, eps=1e-05, momentum=0.1, affine=True, track_running_stats=True)\n",
            "    (29): ReLU(inplace=True)\n",
            "    (30): Sequential(\n",
            "      (0): Conv2d(512, 88, kernel_size=(1, 1), stride=(1, 1), bias=False)\n",
            "      (1): Conv2d(88, 91, kernel_size=(3, 3), stride=(1, 1), padding=(1, 1), bias=False)\n",
            "      (2): Conv2d(91, 512, kernel_size=(1, 1), stride=(1, 1))\n",
            "    )\n",
            "    (31): BatchNorm2d(512, eps=1e-05, momentum=0.1, affine=True, track_running_stats=True)\n",
            "    (32): ReLU(inplace=True)\n",
            "    (33): Sequential(\n",
            "      (0): Conv2d(512, 75, kernel_size=(1, 1), stride=(1, 1), bias=False)\n",
            "      (1): Conv2d(75, 69, kernel_size=(3, 3), stride=(1, 1), padding=(1, 1), bias=False)\n",
            "      (2): Conv2d(69, 512, kernel_size=(1, 1), stride=(1, 1))\n",
            "    )\n",
            "    (34): BatchNorm2d(512, eps=1e-05, momentum=0.1, affine=True, track_running_stats=True)\n",
            "    (35): ReLU(inplace=True)\n",
            "    (36): Sequential(\n",
            "      (0): Conv2d(512, 65, kernel_size=(1, 1), stride=(1, 1), bias=False)\n",
            "      (1): Conv2d(65, 81, kernel_size=(3, 3), stride=(1, 1), padding=(1, 1), bias=False)\n",
            "      (2): Conv2d(81, 512, kernel_size=(1, 1), stride=(1, 1))\n",
            "    )\n",
            "    (37): BatchNorm2d(512, eps=1e-05, momentum=0.1, affine=True, track_running_stats=True)\n",
            "    (38): ReLU(inplace=True)\n",
            "    (39): MaxPool2d(kernel_size=2, stride=2, padding=0, dilation=1, ceil_mode=False)\n",
            "    (40): Sequential(\n",
            "      (0): Conv2d(512, 41, kernel_size=(1, 1), stride=(1, 1), bias=False)\n",
            "      (1): Conv2d(41, 44, kernel_size=(3, 3), stride=(1, 1), padding=(1, 1), bias=False)\n",
            "      (2): Conv2d(44, 512, kernel_size=(1, 1), stride=(1, 1))\n",
            "    )\n",
            "    (41): BatchNorm2d(512, eps=1e-05, momentum=0.1, affine=True, track_running_stats=True)\n",
            "    (42): ReLU(inplace=True)\n",
            "    (43): Sequential(\n",
            "      (0): Conv2d(512, 44, kernel_size=(1, 1), stride=(1, 1), bias=False)\n",
            "      (1): Conv2d(44, 44, kernel_size=(3, 3), stride=(1, 1), padding=(1, 1), bias=False)\n",
            "      (2): Conv2d(44, 512, kernel_size=(1, 1), stride=(1, 1))\n",
            "    )\n",
            "    (44): BatchNorm2d(512, eps=1e-05, momentum=0.1, affine=True, track_running_stats=True)\n",
            "    (45): ReLU(inplace=True)\n",
            "    (46): Sequential(\n",
            "      (0): Conv2d(512, 45, kernel_size=(1, 1), stride=(1, 1), bias=False)\n",
            "      (1): Conv2d(45, 44, kernel_size=(3, 3), stride=(1, 1), padding=(1, 1), bias=False)\n",
            "      (2): Conv2d(44, 512, kernel_size=(1, 1), stride=(1, 1))\n",
            "    )\n",
            "    (47): BatchNorm2d(512, eps=1e-05, momentum=0.1, affine=True, track_running_stats=True)\n",
            "    (48): ReLU(inplace=True)\n",
            "    (49): Sequential(\n",
            "      (0): Conv2d(512, 63, kernel_size=(1, 1), stride=(1, 1), bias=False)\n",
            "      (1): Conv2d(63, 63, kernel_size=(3, 3), stride=(1, 1), padding=(1, 1), bias=False)\n",
            "      (2): Conv2d(63, 512, kernel_size=(1, 1), stride=(1, 1))\n",
            "    )\n",
            "    (50): BatchNorm2d(512, eps=1e-05, momentum=0.1, affine=True, track_running_stats=True)\n",
            "    (51): ReLU(inplace=True)\n",
            "    (52): MaxPool2d(kernel_size=2, stride=2, padding=0, dilation=1, ceil_mode=False)\n",
            "    (53): AvgPool2d(kernel_size=1, stride=1, padding=0)\n",
            "  )\n",
            "  (classifier): Linear(in_features=512, out_features=10, bias=True)\n",
            ")\n",
            "Starting learning rate is: 0.001\n",
            "Traceback (most recent call last):\n",
            "  File \"/content/CNN_compression_with_Tensor_Decomposition/main.py\", line 368, in <module>\n",
            "    assert not os.path.isdir('checkpoint_decomp')\n",
            "AssertionError\n"
          ]
        }
      ],
      "source": [
        "!python /content/CNN_compression_with_Tensor_Decomposition/main.py --run_model --fine_tune --lr=0.001"
      ]
    }
  ],
  "metadata": {
    "accelerator": "GPU",
    "colab": {
      "provenance": [],
      "authorship_tag": "ABX9TyNqYBvXEty253i28RAbkq/+",
      "include_colab_link": true
    },
    "gpuClass": "standard",
    "kernelspec": {
      "display_name": "Python 3",
      "name": "python3"
    },
    "language_info": {
      "name": "python"
    }
  },
  "nbformat": 4,
  "nbformat_minor": 0
}